{
 "cells": [
  {
   "cell_type": "markdown",
   "metadata": {},
   "source": [
    "# Producing Pretty and Practical Python Packages Per Poetry!"
   ]
  },
  {
   "cell_type": "markdown",
   "metadata": {},
   "source": [
    "## What is packaging?\n",
    "\n",
    "A module is a single python file. \n",
    "\n",
    "A package is an organised collection of modules. \n",
    "\n",
    "Generally, they are also pip installable (more on this later)"
   ]
  },
  {
   "cell_type": "markdown",
   "metadata": {},
   "source": [
    "## But I'm not planning on distributing my project on PyPi! Why should I bother packaging?\n",
    "\n",
    "Couple of reasons!\n",
    "\n",
    "1. Reproducibility: if you follow good packaging practices, your work will be more transparent and reproducible.\n",
    "1. Ease of sharing: Need to share code with your collaborators? Have them clone it, and run `pip install -e.`\n",
    "1. Development: Should your project develop into a distributable tool, you'll already be ready to go!"
   ]
  },
  {
   "cell_type": "markdown",
   "metadata": {},
   "source": [
    "## Isn't packaging hard?\n",
    "\n",
    "Nope! It can be a bit confusing at times, though. The Python community as a whole has been a bit slow on adopting [Conda](https://docs.conda.io/en/latest/). Additionally, addoption of [Pep 517](https://www.python.org/dev/peps/pep-0517/) and [PEP 518](https://www.python.org/dev/peps/pep-0518) is still on going! \n",
    "\n",
    "Fortunately, there are a number of tools that simplify the process! I'll be focusing on [Poetry](https://poetry.eustace.io/)."
   ]
  },
  {
   "cell_type": "markdown",
   "metadata": {},
   "source": [
    "## Let's get Poetry!\n",
    "\n",
    "To do so, we need to run the get-poetry script. We are adding the `--preview` flag to install version 1.0.0, which has some very useful features over the current released version - namely, it plays better with `conda`.\n",
    "\n",
    "First, make sure your working directory is `fall2019/2019-11-14`."
   ]
  },
  {
   "cell_type": "code",
   "execution_count": 1,
   "metadata": {},
   "outputs": [
    {
     "name": "stdout",
     "output_type": "stream",
     "text": [
      "/Users/rodgersleejg/Downloads/temp/faes_teaching/fall2019/2019-11-14\n"
     ]
    }
   ],
   "source": [
    "!pwd"
   ]
  },
  {
   "cell_type": "markdown",
   "metadata": {},
   "source": [
    "Now, run the installer. It will walk you through a few prompts to guide the installation."
   ]
  },
  {
   "cell_type": "code",
   "execution_count": 2,
   "metadata": {},
   "outputs": [
    {
     "name": "stdout",
     "output_type": "stream",
     "text": [
      "Retrieving Poetry metadata\n",
      "\n",
      "# Welcome to Poetry!\n",
      "\n",
      "This will download and install the latest version of Poetry,\n",
      "a dependency and package manager for Python.\n",
      "\n",
      "It will add the `poetry` command to Poetry's bin directory, located at:\n",
      "\n",
      "$HOME/.poetry/bin\n",
      "\n",
      "This path will then be added to your `PATH` environment variable by\n",
      "modifying the profile files located at:\n",
      "\n",
      "$HOME/.profile\n",
      "$HOME/.bash_profile\n",
      "\n",
      "You can uninstall at any time with `poetry self:uninstall`,\n",
      "or by executing this script with the --uninstall option,\n",
      "and these changes will be reverted.\n",
      "\n",
      "Installing version: 1.0.0b4\n",
      "  - Downloading poetry-1.0.0b4-darwin.tar.gz (10.93MB)\n",
      "\n",
      "Poetry (1.0.0b4) is installed now. Great!\n",
      "\n",
      "To get started you need Poetry's bin directory ($HOME/.poetry/bin) in your `PATH`\n",
      "environment variable. Next time you log in this will be done\n",
      "automatically.\n",
      "\n",
      "To configure your current shell run `source $HOME/.poetry/env`\n",
      "\n"
     ]
    }
   ],
   "source": [
    "%run get_poetry.py --preview"
   ]
  },
  {
   "cell_type": "markdown",
   "metadata": {},
   "source": [
    "And let's check the help page to make sure everything installed correctly..."
   ]
  },
  {
   "cell_type": "code",
   "execution_count": 3,
   "metadata": {},
   "outputs": [
    {
     "name": "stdout",
     "output_type": "stream",
     "text": [
      "Poetry version \u001b[36m1.0.0b4\u001b[0m\n",
      "\n",
      "\u001b[1mUSAGE\u001b[0m\n",
      "  \u001b[4mpoetry\u001b[0m [-h] [-q] [-v [<...>]] [-V] [--ansi] [--no-ansi] [-n] <command>\n",
      "         [<arg1>] ... [<argN>]\n",
      "\n",
      "\u001b[1mARGUMENTS\u001b[0m\n",
      "  \u001b[36m<command>\u001b[0m              The command to execute\n",
      "  \u001b[36m<arg>\u001b[0m                  The arguments of the command\n",
      "\n",
      "\u001b[1mGLOBAL OPTIONS\u001b[0m\n",
      "  \u001b[36m-h\u001b[0m (--help)            Display this help message\n",
      "  \u001b[36m-q\u001b[0m (--quiet)           Do not output any message\n",
      "  \u001b[36m-v\u001b[0m (--verbose)         Increase the verbosity of messages: \"-v\" for normal\n",
      "                         output, \"-vv\" for more verbose output and \"-vvv\" for\n",
      "                         debug\n",
      "  \u001b[36m-V\u001b[0m (--version)         Display this application version\n",
      "  \u001b[36m--ansi\u001b[0m                 Force ANSI output\n",
      "  \u001b[36m--no-ansi\u001b[0m              Disable ANSI output\n",
      "  \u001b[36m-n\u001b[0m (--no-interaction)  Do not ask any interactive question\n",
      "\n",
      "\u001b[1mAVAILABLE COMMANDS\u001b[0m\n",
      "  \u001b[36mabout\u001b[0m                  Shows information about Poetry.\n",
      "  \u001b[36madd\u001b[0m                    Adds a new dependency to \u001b[32mpyproject.toml\u001b[0m.\n",
      "  \u001b[36mbuild\u001b[0m                  Builds a package, as a tarball and a wheel by default.\n",
      "  \u001b[36mcache\u001b[0m                  Interact with Poetry's cache\n",
      "  \u001b[36mcheck\u001b[0m                  Checks the validity of the\n",
      "                         \u001b[32mpyproject.toml\u001b[0m file.\n",
      "  \u001b[36mconfig\u001b[0m                 Manages configuration settings.\n",
      "  \u001b[36mdebug\u001b[0m                  Debug various elements of Poetry.\n",
      "  \u001b[36menv\u001b[0m                    Interact with Poetry's project environments.\n",
      "  \u001b[36mexport\u001b[0m                 Exports the lock file to alternative formats.\n",
      "  \u001b[36mhelp\u001b[0m                   Display the manual of a command\n",
      "  \u001b[36minit\u001b[0m                   Creates a basic \u001b[32mpyproject.toml\u001b[0m file in the\n",
      "                         current directory.\n",
      "  \u001b[36minstall\u001b[0m                Installs the project dependencies.\n",
      "  \u001b[36mlock\u001b[0m                   Locks the project dependencies.\n",
      "  \u001b[36mnew\u001b[0m                    Creates a new Python project at <path>.\n",
      "  \u001b[36mpublish\u001b[0m                Publishes a package to a remote repository.\n",
      "  \u001b[36mremove\u001b[0m                 Removes a package from the project dependencies.\n",
      "  \u001b[36mrun\u001b[0m                    Runs a command in the appropriate environment.\n",
      "  \u001b[36msearch\u001b[0m                 Searches for packages on remote repositories.\n",
      "  \u001b[36mself\u001b[0m                   Interact with Poetry directly.\n",
      "  \u001b[36mshell\u001b[0m                  Spawns a shell within the virtual environment.\n",
      "  \u001b[36mshow\u001b[0m                   Shows information about packages.\n",
      "  \u001b[36mupdate\u001b[0m                 Update the dependencies as according to the\n",
      "                         \u001b[32mpyproject.toml\u001b[0m file.\n",
      "  \u001b[36mversion\u001b[0m                Shows the version of the project or bumps it when a\n",
      "                         validbump rule is provided.\n",
      "\n"
     ]
    }
   ],
   "source": [
    "!poetry --help"
   ]
  },
  {
   "cell_type": "markdown",
   "metadata": {},
   "source": [
    "## Creating a new project\n",
    "\n",
    "Now that we have `poetry` installed, let's get started packaging! First, we nedd to change to the directory where you want to create the project..."
   ]
  },
  {
   "cell_type": "code",
   "execution_count": 4,
   "metadata": {},
   "outputs": [
    {
     "name": "stdout",
     "output_type": "stream",
     "text": [
      "Python 3.6.7\n"
     ]
    }
   ],
   "source": [
    "!python --version"
   ]
  },
  {
   "cell_type": "markdown",
   "metadata": {},
   "source": [
    "Then, we need to change directories to where you want to create the project..."
   ]
  },
  {
   "cell_type": "markdown",
   "metadata": {},
   "source": [
    "Now, create the project!"
   ]
  },
  {
   "cell_type": "code",
   "execution_count": null,
   "metadata": {},
   "outputs": [],
   "source": [
    "!poetry new my_awesome_package"
   ]
  },
  {
   "cell_type": "markdown",
   "metadata": {},
   "source": [
    "That should have created a new directory! Let's see what's in it!\n",
    "\n",
    "1. A folder named `my_package`. This is where your modules go!\n",
    "1. A folder named `tests`. Your test modules go here!\n",
    "1. A file named `README.rst`. This file is where you describe your project. When you push this project to [github](https://github.com), this will be the front page.\n",
    "1. A file named `pyproject.toml`. This is where the magic happens! This is where you set up your project.\n"
   ]
  },
  {
   "cell_type": "markdown",
   "metadata": {},
   "source": [
    "Lastly, make it a git repository..."
   ]
  },
  {
   "cell_type": "markdown",
   "metadata": {},
   "source": [
    "## Developing your project"
   ]
  },
  {
   "cell_type": "markdown",
   "metadata": {},
   "source": [
    "What good is a project if it doesn't do anything? Let's start by adding some dependencies. As data scientists, we will probably need `pandas`!"
   ]
  },
  {
   "cell_type": "code",
   "execution_count": null,
   "metadata": {},
   "outputs": [],
   "source": [
    "!poetry add pandas"
   ]
  },
  {
   "cell_type": "markdown",
   "metadata": {},
   "source": [
    "Always good habit to make sure your packages are up to date..."
   ]
  },
  {
   "cell_type": "code",
   "execution_count": null,
   "metadata": {},
   "outputs": [],
   "source": [
    "!poetry update"
   ]
  },
  {
   "cell_type": "markdown",
   "metadata": {},
   "source": [
    "Not too surprising...we just installed everything! But what's this? There's a new file here! This is called a lock file. It contains the exact versions used and is regenerated everytime you update."
   ]
  },
  {
   "cell_type": "markdown",
   "metadata": {},
   "source": [
    "## Installing your project"
   ]
  },
  {
   "cell_type": "markdown",
   "metadata": {},
   "source": [
    "Now that we are up and running, we want to install our project. That way, we can import it from anywhere, as long as our conda environment is active!"
   ]
  },
  {
   "cell_type": "code",
   "execution_count": null,
   "metadata": {},
   "outputs": [],
   "source": [
    "!poetry install"
   ]
  },
  {
   "cell_type": "markdown",
   "metadata": {},
   "source": [
    "This is effectively equivalent to calling `pip install .`. All we did was install our directory into the active conda environment. But what if wanted to make changes? Then we'd have to reinstall it, make changes, reinstall...it gets rather tedious. We can do better!"
   ]
  },
  {
   "cell_type": "markdown",
   "metadata": {},
   "source": [
    "## Enter the editable install"
   ]
  },
  {
   "cell_type": "markdown",
   "metadata": {},
   "source": [
    "Fortunately, the people behind `pip` already thought of this! If we are developing our project, then we don't want to call `poetry install`, but rather `pip install -e .`. Now, if we make any changes to our source code, they will be immediately available without having to re-install it!"
   ]
  },
  {
   "cell_type": "code",
   "execution_count": null,
   "metadata": {},
   "outputs": [],
   "source": [
    "!pip install -e ."
   ]
  },
  {
   "cell_type": "markdown",
   "metadata": {},
   "source": [
    "## Wait, what? I thought you said this was better?"
   ]
  },
  {
   "cell_type": "markdown",
   "metadata": {},
   "source": [
    "Enter the one greate flaw of the pyproject.toml file. While you can specify settings for almost anything here, eliminating the need for a great many files, it doesn't yet allow editable installs. Hopefully, that will be resolved soon! In the meantime, there's a workaround. We need to files for an editable install: `requirements.txt` and `setup.py`."
   ]
  },
  {
   "cell_type": "markdown",
   "metadata": {},
   "source": [
    "`poetry` has a command for generating a `requirements.txt` file. It's `poetry export`. Let's give it a go!"
   ]
  },
  {
   "cell_type": "markdown",
   "metadata": {},
   "source": [
    "Ok, now we need a `setup.py`. While you can put a lot in this, it can be pretty basic if all you want to do with it is the editable install. I've included a minimal `setup.py` in this week's folder. Copy or move it into your project folder. Then, open it and change \"test\" to your project name."
   ]
  },
  {
   "cell_type": "markdown",
   "metadata": {},
   "source": [
    "Now, do an editable install!"
   ]
  },
  {
   "cell_type": "markdown",
   "metadata": {},
   "source": [
    "## Testing"
   ]
  },
  {
   "cell_type": "markdown",
   "metadata": {},
   "source": [
    "The last component of a well built project is good tests! In Python, the standard package for this is `pytest`. It looks for a folder named `tests`, then runs any tests that are there. Fortunately, `poetry` already initialised that folder for us! Let's give it a go..."
   ]
  },
  {
   "cell_type": "markdown",
   "metadata": {},
   "source": [
    "All the tests should pass! As you add new code to your project folder, make sure to add tests to your test folder! Let no code go untested!"
   ]
  },
  {
   "cell_type": "code",
   "execution_count": null,
   "metadata": {},
   "outputs": [],
   "source": []
  }
 ],
 "metadata": {
  "kernelspec": {
   "display_name": "Python 3",
   "language": "python",
   "name": "python3"
  },
  "language_info": {
   "codemirror_mode": {
    "name": "ipython",
    "version": 3
   },
   "file_extension": ".py",
   "mimetype": "text/x-python",
   "name": "python",
   "nbconvert_exporter": "python",
   "pygments_lexer": "ipython3",
   "version": "3.6.7"
  }
 },
 "nbformat": 4,
 "nbformat_minor": 4
}
